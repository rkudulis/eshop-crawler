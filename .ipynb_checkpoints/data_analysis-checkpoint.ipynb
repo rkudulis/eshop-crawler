{
 "cells": [
  {
   "cell_type": "code",
   "execution_count": 1,
   "metadata": {},
   "outputs": [],
   "source": [
    "import pandas as pd\n",
    "import matplotlib.pyplot as plt\n",
    "import json\n",
    "import re\n",
    "plt.style.use('seaborn')"
   ]
  },
  {
   "cell_type": "code",
   "execution_count": 4,
   "metadata": {},
   "outputs": [],
   "source": [
    "with open('scraped_data_utf8.json') as file:\n",
    "    data = json.loads(file.read())"
   ]
  },
  {
   "cell_type": "code",
   "execution_count": 6,
   "metadata": {
    "tags": []
   },
   "outputs": [
    {
     "output_type": "stream",
     "name": "stdout",
     "text": "(640, 8)\n"
    },
    {
     "output_type": "execute_result",
     "data": {
      "text/plain": "                          title          category   price  \\\n0       Dronų pilotavimo pamoka      Oro pramogos   29.00   \n1  Dovanų kortelė | GERA DOVANA      Oro pramogos    None   \n2       Dovanų rinkinys ATITRŪK      Oro pramogos  199.00   \n3        Vakarienės prenumerata  Pramogos namuose    None   \n4     Žurnalo LAIMĖ prenumerata  Pramogos namuose   14.99   \n\n                                            location              users  \\\n0                                            Vilnius                1,2   \n1  Vilnius(aps.),Kaunas(aps.),Klaipėda(aps.),Pala...  Neribojama,1,2,3+   \n2  Vilnius,Kaunas(aps.),Klaipėda(aps.),Palanga,Dr...                1,2   \n3                                     Vilnius,Kaunas         Neribojama   \n4                                        VisaLietuva                  1   \n\n  rating votes                                                url  \n0   None  None  https://www.geradovana.lt/dronu-pilotavimo-pam...  \n1    4.5     2  https://www.geradovana.lt/dovanu-kortele--gera...  \n2    4.6     7  https://www.geradovana.lt/dovanu-rinkinys-atit...  \n3    5.0     2  https://www.geradovana.lt/vakarienes-prenumera...  \n4   None  None  https://www.geradovana.lt/zurnalo-laima-prenum...  ",
      "text/html": "<div>\n<style scoped>\n    .dataframe tbody tr th:only-of-type {\n        vertical-align: middle;\n    }\n\n    .dataframe tbody tr th {\n        vertical-align: top;\n    }\n\n    .dataframe thead th {\n        text-align: right;\n    }\n</style>\n<table border=\"1\" class=\"dataframe\">\n  <thead>\n    <tr style=\"text-align: right;\">\n      <th></th>\n      <th>title</th>\n      <th>category</th>\n      <th>price</th>\n      <th>location</th>\n      <th>users</th>\n      <th>rating</th>\n      <th>votes</th>\n      <th>url</th>\n    </tr>\n  </thead>\n  <tbody>\n    <tr>\n      <th>0</th>\n      <td>Dronų pilotavimo pamoka</td>\n      <td>Oro pramogos</td>\n      <td>29.00</td>\n      <td>Vilnius</td>\n      <td>1,2</td>\n      <td>None</td>\n      <td>None</td>\n      <td>https://www.geradovana.lt/dronu-pilotavimo-pam...</td>\n    </tr>\n    <tr>\n      <th>1</th>\n      <td>Dovanų kortelė | GERA DOVANA</td>\n      <td>Oro pramogos</td>\n      <td>None</td>\n      <td>Vilnius(aps.),Kaunas(aps.),Klaipėda(aps.),Pala...</td>\n      <td>Neribojama,1,2,3+</td>\n      <td>4.5</td>\n      <td>2</td>\n      <td>https://www.geradovana.lt/dovanu-kortele--gera...</td>\n    </tr>\n    <tr>\n      <th>2</th>\n      <td>Dovanų rinkinys ATITRŪK</td>\n      <td>Oro pramogos</td>\n      <td>199.00</td>\n      <td>Vilnius,Kaunas(aps.),Klaipėda(aps.),Palanga,Dr...</td>\n      <td>1,2</td>\n      <td>4.6</td>\n      <td>7</td>\n      <td>https://www.geradovana.lt/dovanu-rinkinys-atit...</td>\n    </tr>\n    <tr>\n      <th>3</th>\n      <td>Vakarienės prenumerata</td>\n      <td>Pramogos namuose</td>\n      <td>None</td>\n      <td>Vilnius,Kaunas</td>\n      <td>Neribojama</td>\n      <td>5.0</td>\n      <td>2</td>\n      <td>https://www.geradovana.lt/vakarienes-prenumera...</td>\n    </tr>\n    <tr>\n      <th>4</th>\n      <td>Žurnalo LAIMĖ prenumerata</td>\n      <td>Pramogos namuose</td>\n      <td>14.99</td>\n      <td>VisaLietuva</td>\n      <td>1</td>\n      <td>None</td>\n      <td>None</td>\n      <td>https://www.geradovana.lt/zurnalo-laima-prenum...</td>\n    </tr>\n  </tbody>\n</table>\n</div>"
     },
     "metadata": {},
     "execution_count": 6
    }
   ],
   "source": [
    "def make_clickable(val):\n",
    "    # target _blank to open new window\n",
    "    return '<a target=\"_blank\" href=\"{}\">{}</a>'.format(val, val)\n",
    "\n",
    "df = pd.DataFrame.from_dict(data,  orient='index')\n",
    "df.style.format({'url': make_clickable})\n",
    "print(df.shape)\n",
    "df.head()"
   ]
  },
  {
   "cell_type": "markdown",
   "metadata": {},
   "source": [
    "Dataset has 583 observations and 8 columns.  \n",
    "\n",
    "Description of columns:  \n",
    "`title` : title of coupon  \n",
    "`category` : to which category the item belongs  \n",
    "`price` : what is the price for coupon? None indicates that one could choose coupon value  \n",
    "`location`: where one can get the service  \n",
    "`users`: how many participants  \n",
    "`rating`: rating from 0 to 5  \n",
    "`votes`: how many votes was used to calculate rating  \n",
    "`url`: url of copoun, in case to get more details\n",
    "\n",
    "Most columns contains plain text thus the main objective is to extract valuable information from it. The key column is however `price`\n"
   ]
  },
  {
   "cell_type": "code",
   "execution_count": 39,
   "metadata": {},
   "outputs": [
    {
     "output_type": "stream",
     "name": "stdout",
     "text": "<class 'pandas.core.frame.DataFrame'>\nIndex: 583 entries, 0 to 582\nData columns (total 8 columns):\n #   Column    Non-Null Count  Dtype  \n---  ------    --------------  -----  \n 0   title     583 non-null    object \n 1   category  583 non-null    object \n 2   price     522 non-null    float64\n 3   location  581 non-null    object \n 4   users     549 non-null    object \n 5   rating    234 non-null    object \n 6   votes     234 non-null    object \n 7   url       583 non-null    object \ndtypes: float64(1), object(7)\nmemory usage: 61.0+ KB\n"
    }
   ],
   "source": [
    "df.info()"
   ]
  },
  {
   "cell_type": "markdown",
   "metadata": {},
   "source": [
    "`price` column contains 61 missing value and it's represented as object (string). I will perform cleaning procedure with correct representation of missing values and as float type"
   ]
  },
  {
   "cell_type": "code",
   "execution_count": 69,
   "metadata": {},
   "outputs": [],
   "source": [
    "# Lets create copy of original dataframe for cleaning\n",
    "clean_df = df.copy()"
   ]
  },
  {
   "cell_type": "code",
   "execution_count": 70,
   "metadata": {},
   "outputs": [
    {
     "output_type": "execute_result",
     "data": {
      "text/plain": "count     522.000000\nmean       70.828487\nstd       163.790986\nmin         4.190000\n25%        23.340000\n50%        39.000000\n75%        74.750000\nmax      2690.000000\nName: price, dtype: float64"
     },
     "metadata": {},
     "execution_count": 70
    }
   ],
   "source": [
    "clean_df.price = pd.to_numeric(clean_df.price, errors='coerce')\n",
    "clean_df.price.describe() # TEST"
   ]
  },
  {
   "cell_type": "code",
   "execution_count": 71,
   "metadata": {},
   "outputs": [
    {
     "output_type": "stream",
     "name": "stdout",
     "text": "Unique values:  13\n"
    },
    {
     "output_type": "execute_result",
     "data": {
      "text/plain": "array(['Tamsa', 'Poilsis su nakvyne', 'Vandens pramogos',\n       'Superautomobiliai', 'TOP aktyvus laisvalaikis', 'Grožis',\n       'Geras skonis', 'Spa ir masažai', 'Sveikatinimas',\n       'Kūrybiškos, linksmos', 'Žemės pramogos', 'Pramogos namuose',\n       'Oro pramogos'], dtype=object)"
     },
     "metadata": {},
     "execution_count": 71
    }
   ],
   "source": [
    "print(\"Unique values: \", clean_df.category.nunique())\n",
    "clean_df.category.unique()"
   ]
  },
  {
   "cell_type": "markdown",
   "metadata": {},
   "source": [
    "Category column contains 13 unique values. I will not perform cleaning on it"
   ]
  },
  {
   "cell_type": "code",
   "execution_count": 72,
   "metadata": {},
   "outputs": [
    {
     "output_type": "execute_result",
     "data": {
      "text/plain": "(939, 9)"
     },
     "metadata": {},
     "execution_count": 72
    }
   ],
   "source": [
    "clean_data = clean_df.location.str.split(\",\", expand=True).merge(clean_df, right_index=True, left_index=True) \\\n",
    "                .drop('location', axis=1) \\\n",
    "                .melt(id_vars=['title','category','price','users','rating','votes','url'], value_name=\"location\") \\\n",
    "                .dropna(subset=['location'])\n",
    "clean_data.shape"
   ]
  },
  {
   "cell_type": "markdown",
   "metadata": {},
   "source": [
    "`location` columns could contain multiple values separated by comma. I have splitted them and create new row for each of them Because of that my data has 939 observations instead of 583."
   ]
  },
  {
   "cell_type": "code",
   "execution_count": 67,
   "metadata": {},
   "outputs": [
    {
     "output_type": "execute_result",
     "data": {
      "text/plain": "(939, 9)"
     },
     "metadata": {},
     "execution_count": 67
    }
   ],
   "source": [
    "from IPython.display import IFrame\n",
    "\n",
    "url = 'https://www.wikipedia.org'\n",
    "IFrame(url, width=800, height=400)"
   ]
  },
  {
   "cell_type": "code",
   "execution_count": null,
   "metadata": {},
   "outputs": [],
   "source": []
  }
 ],
 "metadata": {
  "language_info": {
   "codemirror_mode": {
    "name": "ipython",
    "version": 3
   },
   "file_extension": ".py",
   "mimetype": "text/x-python",
   "name": "python",
   "nbconvert_exporter": "python",
   "pygments_lexer": "ipython3",
   "version": "3.7.6-final"
  },
  "orig_nbformat": 2,
  "kernelspec": {
   "name": "python37664bitbasecondaf6de0f0fa6e74cb188fe8d9c51f34ce6",
   "display_name": "Python 3.7.6 64-bit ('base': conda)"
  }
 },
 "nbformat": 4,
 "nbformat_minor": 2
}