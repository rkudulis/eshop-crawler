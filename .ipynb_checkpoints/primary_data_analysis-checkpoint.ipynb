{
 "cells": [
  {
   "cell_type": "markdown",
   "metadata": {},
   "source": [
    "# Gift coupons: Web Scraping [ Part I ]"
   ]
  },
  {
   "cell_type": "markdown",
   "metadata": {},
   "source": [
    "This notebook contains primary data analysis and identification of data issues after web scraping."
   ]
  },
  {
   "cell_type": "code",
   "execution_count": 4,
   "metadata": {},
   "outputs": [],
   "source": [
    "import pandas as pd\n",
    "import matplotlib.pyplot as plt\n",
    "import json\n",
    "import re\n",
    "plt.style.use('seaborn')"
   ]
  },
  {
   "cell_type": "code",
   "execution_count": 5,
   "metadata": {},
   "outputs": [],
   "source": [
    "with open('scraped_data_utf8.json') as file:\n",
    "    data = json.loads(file.read())"
   ]
  },
  {
   "cell_type": "code",
   "execution_count": 12,
   "metadata": {},
   "outputs": [],
   "source": [
    "# Make urls clickable\n",
    "def make_clickable(val):\n",
    "    # target _blank to open new window\n",
    "    return '<a target=\"_blank\" href=\"{}\">{}</a>'.format(val, val)"
   ]
  },
  {
   "cell_type": "code",
   "execution_count": 13,
   "metadata": {},
   "outputs": [
    {
     "name": "stdout",
     "output_type": "stream",
     "text": [
      "(640, 8)\n"
     ]
    },
    {
     "data": {
      "text/html": [
       "<div>\n",
       "<style scoped>\n",
       "    .dataframe tbody tr th:only-of-type {\n",
       "        vertical-align: middle;\n",
       "    }\n",
       "\n",
       "    .dataframe tbody tr th {\n",
       "        vertical-align: top;\n",
       "    }\n",
       "\n",
       "    .dataframe thead th {\n",
       "        text-align: right;\n",
       "    }\n",
       "</style>\n",
       "<table border=\"1\" class=\"dataframe\">\n",
       "  <thead>\n",
       "    <tr style=\"text-align: right;\">\n",
       "      <th></th>\n",
       "      <th>title</th>\n",
       "      <th>category</th>\n",
       "      <th>price</th>\n",
       "      <th>location</th>\n",
       "      <th>users</th>\n",
       "      <th>rating</th>\n",
       "      <th>votes</th>\n",
       "      <th>url</th>\n",
       "    </tr>\n",
       "  </thead>\n",
       "  <tbody>\n",
       "    <tr>\n",
       "      <th>0</th>\n",
       "      <td>Dronų pilotavimo pamoka</td>\n",
       "      <td>Oro pramogos</td>\n",
       "      <td>29.00</td>\n",
       "      <td>Vilnius</td>\n",
       "      <td>1,2</td>\n",
       "      <td>None</td>\n",
       "      <td>None</td>\n",
       "      <td>https://www.geradovana.lt/dronu-pilotavimo-pam...</td>\n",
       "    </tr>\n",
       "    <tr>\n",
       "      <th>1</th>\n",
       "      <td>Dovanų kortelė | GERA DOVANA</td>\n",
       "      <td>Oro pramogos</td>\n",
       "      <td>None</td>\n",
       "      <td>Vilnius(aps.),Kaunas(aps.),Klaipėda(aps.),Pala...</td>\n",
       "      <td>Neribojama,1,2,3+</td>\n",
       "      <td>4.5</td>\n",
       "      <td>2</td>\n",
       "      <td>https://www.geradovana.lt/dovanu-kortele--gera...</td>\n",
       "    </tr>\n",
       "    <tr>\n",
       "      <th>2</th>\n",
       "      <td>Dovanų rinkinys ATITRŪK</td>\n",
       "      <td>Oro pramogos</td>\n",
       "      <td>199.00</td>\n",
       "      <td>Vilnius,Kaunas(aps.),Klaipėda(aps.),Palanga,Dr...</td>\n",
       "      <td>1,2</td>\n",
       "      <td>4.6</td>\n",
       "      <td>7</td>\n",
       "      <td>https://www.geradovana.lt/dovanu-rinkinys-atit...</td>\n",
       "    </tr>\n",
       "    <tr>\n",
       "      <th>3</th>\n",
       "      <td>Vakarienės prenumerata</td>\n",
       "      <td>Pramogos namuose</td>\n",
       "      <td>None</td>\n",
       "      <td>Vilnius,Kaunas</td>\n",
       "      <td>Neribojama</td>\n",
       "      <td>5.0</td>\n",
       "      <td>2</td>\n",
       "      <td>https://www.geradovana.lt/vakarienes-prenumera...</td>\n",
       "    </tr>\n",
       "    <tr>\n",
       "      <th>4</th>\n",
       "      <td>Žurnalo LAIMĖ prenumerata</td>\n",
       "      <td>Pramogos namuose</td>\n",
       "      <td>14.99</td>\n",
       "      <td>VisaLietuva</td>\n",
       "      <td>1</td>\n",
       "      <td>None</td>\n",
       "      <td>None</td>\n",
       "      <td>https://www.geradovana.lt/zurnalo-laima-prenum...</td>\n",
       "    </tr>\n",
       "  </tbody>\n",
       "</table>\n",
       "</div>"
      ],
      "text/plain": [
       "                          title          category   price  \\\n",
       "0       Dronų pilotavimo pamoka      Oro pramogos   29.00   \n",
       "1  Dovanų kortelė | GERA DOVANA      Oro pramogos    None   \n",
       "2       Dovanų rinkinys ATITRŪK      Oro pramogos  199.00   \n",
       "3        Vakarienės prenumerata  Pramogos namuose    None   \n",
       "4     Žurnalo LAIMĖ prenumerata  Pramogos namuose   14.99   \n",
       "\n",
       "                                            location              users  \\\n",
       "0                                            Vilnius                1,2   \n",
       "1  Vilnius(aps.),Kaunas(aps.),Klaipėda(aps.),Pala...  Neribojama,1,2,3+   \n",
       "2  Vilnius,Kaunas(aps.),Klaipėda(aps.),Palanga,Dr...                1,2   \n",
       "3                                     Vilnius,Kaunas         Neribojama   \n",
       "4                                        VisaLietuva                  1   \n",
       "\n",
       "  rating votes                                                url  \n",
       "0   None  None  https://www.geradovana.lt/dronu-pilotavimo-pam...  \n",
       "1    4.5     2  https://www.geradovana.lt/dovanu-kortele--gera...  \n",
       "2    4.6     7  https://www.geradovana.lt/dovanu-rinkinys-atit...  \n",
       "3    5.0     2  https://www.geradovana.lt/vakarienes-prenumera...  \n",
       "4   None  None  https://www.geradovana.lt/zurnalo-laima-prenum...  "
      ]
     },
     "execution_count": 13,
     "metadata": {},
     "output_type": "execute_result"
    }
   ],
   "source": [
    "df = pd.DataFrame.from_dict(data,  orient='index')\n",
    "style = df.style.format({'url': make_clickable})\n",
    "print(df.shape)\n",
    "df.head()"
   ]
  },
  {
   "cell_type": "markdown",
   "metadata": {},
   "source": [
    "Data contains 640 unique items"
   ]
  },
  {
   "cell_type": "code",
   "execution_count": 23,
   "metadata": {},
   "outputs": [
    {
     "name": "stdout",
     "output_type": "stream",
     "text": [
      "<class 'pandas.core.frame.DataFrame'>\n",
      "Index: 640 entries, 0 to 639\n",
      "Data columns (total 8 columns):\n",
      " #   Column    Non-Null Count  Dtype  \n",
      "---  ------    --------------  -----  \n",
      " 0   title     640 non-null    object \n",
      " 1   category  640 non-null    object \n",
      " 2   price     574 non-null    float64\n",
      " 3   location  637 non-null    object \n",
      " 4   users     604 non-null    object \n",
      " 5   rating    291 non-null    float64\n",
      " 6   votes     291 non-null    object \n",
      " 7   url       640 non-null    object \n",
      "dtypes: float64(2), object(6)\n",
      "memory usage: 65.0+ KB\n"
     ]
    }
   ],
   "source": [
    "df.info()"
   ]
  },
  {
   "cell_type": "code",
   "execution_count": 25,
   "metadata": {},
   "outputs": [],
   "source": [
    "# Convert columns to correct data types\n",
    "\n",
    "dtypes_dict = {\n",
    "    'price':float, 'rating':float, 'votes':float\n",
    "}\n",
    "\n",
    "df = df.astype(dtypes_dict, errors='ignore')"
   ]
  },
  {
   "cell_type": "code",
   "execution_count": 26,
   "metadata": {},
   "outputs": [
    {
     "data": {
      "text/plain": [
       "title       640\n",
       "category     14\n",
       "price       174\n",
       "location     86\n",
       "users         9\n",
       "rating       18\n",
       "votes        31\n",
       "url         640\n",
       "dtype: int64"
      ]
     },
     "execution_count": 26,
     "metadata": {},
     "output_type": "execute_result"
    }
   ],
   "source": [
    "df.nunique()"
   ]
  },
  {
   "cell_type": "markdown",
   "metadata": {},
   "source": [
    "Data contains 640 unique items under 14 unique categories."
   ]
  },
  {
   "cell_type": "code",
   "execution_count": 46,
   "metadata": {},
   "outputs": [
    {
     "data": {
      "text/html": [
       "<div>\n",
       "<style scoped>\n",
       "    .dataframe tbody tr th:only-of-type {\n",
       "        vertical-align: middle;\n",
       "    }\n",
       "\n",
       "    .dataframe tbody tr th {\n",
       "        vertical-align: top;\n",
       "    }\n",
       "\n",
       "    .dataframe thead th {\n",
       "        text-align: right;\n",
       "    }\n",
       "</style>\n",
       "<table border=\"1\" class=\"dataframe\">\n",
       "  <thead>\n",
       "    <tr style=\"text-align: right;\">\n",
       "      <th></th>\n",
       "      <th>price</th>\n",
       "      <th>rating</th>\n",
       "      <th>votes</th>\n",
       "    </tr>\n",
       "  </thead>\n",
       "  <tbody>\n",
       "    <tr>\n",
       "      <th>count</th>\n",
       "      <td>574.000000</td>\n",
       "      <td>291.000000</td>\n",
       "      <td>291.000000</td>\n",
       "    </tr>\n",
       "    <tr>\n",
       "      <th>mean</th>\n",
       "      <td>92.834948</td>\n",
       "      <td>4.786598</td>\n",
       "      <td>6.154639</td>\n",
       "    </tr>\n",
       "    <tr>\n",
       "      <th>std</th>\n",
       "      <td>240.019488</td>\n",
       "      <td>0.514673</td>\n",
       "      <td>11.274635</td>\n",
       "    </tr>\n",
       "    <tr>\n",
       "      <th>min</th>\n",
       "      <td>2.990000</td>\n",
       "      <td>1.000000</td>\n",
       "      <td>1.000000</td>\n",
       "    </tr>\n",
       "    <tr>\n",
       "      <th>25%</th>\n",
       "      <td>25.000000</td>\n",
       "      <td>4.800000</td>\n",
       "      <td>1.000000</td>\n",
       "    </tr>\n",
       "    <tr>\n",
       "      <th>50%</th>\n",
       "      <td>45.000000</td>\n",
       "      <td>5.000000</td>\n",
       "      <td>2.000000</td>\n",
       "    </tr>\n",
       "    <tr>\n",
       "      <th>75%</th>\n",
       "      <td>98.000000</td>\n",
       "      <td>5.000000</td>\n",
       "      <td>6.500000</td>\n",
       "    </tr>\n",
       "    <tr>\n",
       "      <th>max</th>\n",
       "      <td>2990.000000</td>\n",
       "      <td>5.000000</td>\n",
       "      <td>95.000000</td>\n",
       "    </tr>\n",
       "  </tbody>\n",
       "</table>\n",
       "</div>"
      ],
      "text/plain": [
       "             price      rating       votes\n",
       "count   574.000000  291.000000  291.000000\n",
       "mean     92.834948    4.786598    6.154639\n",
       "std     240.019488    0.514673   11.274635\n",
       "min       2.990000    1.000000    1.000000\n",
       "25%      25.000000    4.800000    1.000000\n",
       "50%      45.000000    5.000000    2.000000\n",
       "75%      98.000000    5.000000    6.500000\n",
       "max    2990.000000    5.000000   95.000000"
      ]
     },
     "execution_count": 46,
     "metadata": {},
     "output_type": "execute_result"
    }
   ],
   "source": [
    "df.describe()"
   ]
  },
  {
   "cell_type": "markdown",
   "metadata": {},
   "source": [
    "574 items have fixed price. 66 items have price range which buyer could set."
   ]
  },
  {
   "cell_type": "code",
   "execution_count": 45,
   "metadata": {},
   "outputs": [
    {
     "data": {
      "image/png": "[encoded data removed]",
      "text/plain": [
       "<Figure size 576x396 with 1 Axes>"
      ]
     },
     "metadata": {},
     "output_type": "display_data"
    }
   ],
   "source": [
    "df.price.plot(kind='hist', bins=100)\n",
    "plt.title(\"Distribution of PRICE\")\n",
    "plt.savefig(\"price.png\", dpi=300);"
   ]
  },
  {
   "cell_type": "markdown",
   "metadata": {},
   "source": [
    "50% of coupons costs under 45 Eur and 75% under 98 Eur. The data contains some very expensive. The last two most expesive items costs 2600 and 2900 Eur and offer helicopter ride and short-term rent of Estonian island accordingly."
   ]
  }
 ],
 "metadata": {
  "kernelspec": {
   "display_name": "Python 3",
   "language": "python",
   "name": "python3"
  },
  "language_info": {
   "codemirror_mode": {
    "name": "ipython",
    "version": 3
   },
   "file_extension": ".py",
   "mimetype": "text/x-python",
   "name": "python",
   "nbconvert_exporter": "python",
   "pygments_lexer": "ipython3",
   "version": "3.7.6"
  }
 },
 "nbformat": 4,
 "nbformat_minor": 4
}
